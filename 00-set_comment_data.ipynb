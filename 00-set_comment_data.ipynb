{
 "cells": [
  {
   "cell_type": "code",
   "execution_count": 3,
   "id": "ea8257d1",
   "metadata": {},
   "outputs": [],
   "source": [
    "import pandas as pd"
   ]
  },
  {
   "cell_type": "code",
   "execution_count": 14,
   "id": "f307910c",
   "metadata": {},
   "outputs": [
    {
     "data": {
      "text/plain": [
       "0        {'id': 'UCLueDuQ03RA7wcegG4_W9yg', 'images': [...\n",
       "1        {'id': 'UCvgI_c7ZSqcPs24OR16sQQg', 'images': [...\n",
       "2        {'id': 'UCq0-kWlRdVanHABVdjoqn0g', 'images': [...\n",
       "3        {'id': 'UCher3EPdbln2H7NBuE-Xcww', 'images': [...\n",
       "4        {'id': 'UClx3wZ2UxyYFKUTlpb2IScA', 'images': [...\n",
       "                               ...                        \n",
       "55408    {'id': 'UCoT1kpQD8xuSmNsWYjgGGAQ', 'images': [...\n",
       "55409    {'id': 'UCigX-VjGGu_ehRh2vuoFHVw', 'images': [...\n",
       "55410    {'id': 'UC1M9BFnEuR6Np-ZGv7sWs2g', 'images': [...\n",
       "55411    {'id': 'UCigX-VjGGu_ehRh2vuoFHVw', 'images': [...\n",
       "55412    {'id': 'UCY1e8Orn76B4pSM6im5f-0A', 'images': [...\n",
       "Name: author, Length: 55413, dtype: object"
      ]
     },
     "execution_count": 14,
     "metadata": {},
     "output_type": "execute_result"
    }
   ],
   "source": [
    "path = './chat3.json'\n",
    "df = pd.read_json(path)\n",
    "df.author"
   ]
  },
  {
   "cell_type": "code",
   "execution_count": 15,
   "id": "97be5f97",
   "metadata": {},
   "outputs": [
    {
     "data": {
      "text/html": [
       "<div>\n",
       "<style scoped>\n",
       "    .dataframe tbody tr th:only-of-type {\n",
       "        vertical-align: middle;\n",
       "    }\n",
       "\n",
       "    .dataframe tbody tr th {\n",
       "        vertical-align: top;\n",
       "    }\n",
       "\n",
       "    .dataframe thead th {\n",
       "        text-align: right;\n",
       "    }\n",
       "</style>\n",
       "<table border=\"1\" class=\"dataframe\">\n",
       "  <thead>\n",
       "    <tr style=\"text-align: right;\">\n",
       "      <th></th>\n",
       "      <th>id</th>\n",
       "      <th>name</th>\n",
       "      <th>message</th>\n",
       "      <th>timestamp</th>\n",
       "      <th>time_text</th>\n",
       "      <th>time_in_seconds</th>\n",
       "    </tr>\n",
       "  </thead>\n",
       "  <tbody>\n",
       "    <tr>\n",
       "      <th>0</th>\n",
       "      <td>UCLueDuQ03RA7wcegG4_W9yg</td>\n",
       "      <td>陳信</td>\n",
       "      <td>2號貪最大:face-blue-smiling::face-blue-smiling::fa...</td>\n",
       "      <td>2023-12-28 10:59:55.770883</td>\n",
       "      <td>-0:04</td>\n",
       "      <td>-4.0</td>\n",
       "    </tr>\n",
       "    <tr>\n",
       "      <th>1</th>\n",
       "      <td>UCvgI_c7ZSqcPs24OR16sQQg</td>\n",
       "      <td>肉包</td>\n",
       "      <td>11111111111</td>\n",
       "      <td>2023-12-28 10:59:55.953119</td>\n",
       "      <td>-0:04</td>\n",
       "      <td>-4.0</td>\n",
       "    </tr>\n",
       "    <tr>\n",
       "      <th>2</th>\n",
       "      <td>UCq0-kWlRdVanHABVdjoqn0g</td>\n",
       "      <td>Michael Tseng</td>\n",
       "      <td>柯P的老人民調已經起來了</td>\n",
       "      <td>2023-12-28 10:59:56.015470</td>\n",
       "      <td>-0:04</td>\n",
       "      <td>-4.0</td>\n",
       "    </tr>\n",
       "    <tr>\n",
       "      <th>3</th>\n",
       "      <td>UCher3EPdbln2H7NBuE-Xcww</td>\n",
       "      <td>linkaihsiao</td>\n",
       "      <td>台灣的選擇，柯文哲</td>\n",
       "      <td>2023-12-28 10:59:56.045462</td>\n",
       "      <td>-0:03</td>\n",
       "      <td>-3.0</td>\n",
       "    </tr>\n",
       "    <tr>\n",
       "      <th>4</th>\n",
       "      <td>UClx3wZ2UxyYFKUTlpb2IScA</td>\n",
       "      <td>智謙</td>\n",
       "      <td>:cucumber:</td>\n",
       "      <td>2023-12-28 10:59:56.075911</td>\n",
       "      <td>-0:03</td>\n",
       "      <td>-3.0</td>\n",
       "    </tr>\n",
       "  </tbody>\n",
       "</table>\n",
       "</div>"
      ],
      "text/plain": [
       "                         id           name  \\\n",
       "0  UCLueDuQ03RA7wcegG4_W9yg             陳信   \n",
       "1  UCvgI_c7ZSqcPs24OR16sQQg             肉包   \n",
       "2  UCq0-kWlRdVanHABVdjoqn0g  Michael Tseng   \n",
       "3  UCher3EPdbln2H7NBuE-Xcww    linkaihsiao   \n",
       "4  UClx3wZ2UxyYFKUTlpb2IScA             智謙   \n",
       "\n",
       "                                             message  \\\n",
       "0  2號貪最大:face-blue-smiling::face-blue-smiling::fa...   \n",
       "1                                        11111111111   \n",
       "2                                       柯P的老人民調已經起來了   \n",
       "3                                          台灣的選擇，柯文哲   \n",
       "4                                         :cucumber:   \n",
       "\n",
       "                   timestamp time_text  time_in_seconds  \n",
       "0 2023-12-28 10:59:55.770883     -0:04             -4.0  \n",
       "1 2023-12-28 10:59:55.953119     -0:04             -4.0  \n",
       "2 2023-12-28 10:59:56.015470     -0:04             -4.0  \n",
       "3 2023-12-28 10:59:56.045462     -0:03             -3.0  \n",
       "4 2023-12-28 10:59:56.075911     -0:03             -3.0  "
      ]
     },
     "execution_count": 15,
     "metadata": {},
     "output_type": "execute_result"
    }
   ],
   "source": [
    "json_expanded_df = pd.json_normalize(df['author'])\n",
    "\n",
    "final_df = pd.concat([df, json_expanded_df], axis=1)[['id', 'name', 'message', 'timestamp', 'time_text', \"time_in_seconds\"]]\n",
    "final_df.head(5)"
   ]
  },
  {
   "cell_type": "code",
   "execution_count": 16,
   "id": "9c0ae454",
   "metadata": {},
   "outputs": [],
   "source": [
    "final_df.to_csv(\"總統政見辯論會3_台視留言.csv\")"
   ]
  },
  {
   "cell_type": "code",
   "execution_count": 17,
   "id": "6d487378",
   "metadata": {},
   "outputs": [
    {
     "data": {
      "text/plain": [
       "name\n",
       "老王人                      175\n",
       "琦山豬流浪                    104\n",
       "Jesse Yen                101\n",
       "Mercy Mercy               94\n",
       "pppdddch                  93\n",
       "Bubu ruru                 92\n",
       "Akira                     91\n",
       "龜燃波火                      89\n",
       "Allen Li                  88\n",
       "Tom Chen NT               85\n",
       "林林                        85\n",
       "lin lin                   84\n",
       "J Hsiang                  80\n",
       "Beautiful witch Jolyn     76\n",
       "無心                        76\n",
       "mark Huang                75\n",
       "葉大雄                       75\n",
       "林容和                       74\n",
       "未知樹                       74\n",
       "王德良                       74\n",
       "Name: count, dtype: int64"
      ]
     },
     "execution_count": 17,
     "metadata": {},
     "output_type": "execute_result"
    }
   ],
   "source": [
    "final_df['name'].value_counts().head(20)"
   ]
  },
  {
   "cell_type": "code",
   "execution_count": 18,
   "id": "37f6de63",
   "metadata": {},
   "outputs": [
    {
     "data": {
      "text/plain": [
       "message\n",
       "1                                                    9481\n",
       "空                                                    1184\n",
       "2                                                     876\n",
       "3                                                     668\n",
       "11111                                                 641\n",
       "1+12                                                  620\n",
       "1111                                                  577\n",
       "111                                                   556\n",
       "超派                                                    349\n",
       "333                                                   262\n",
       "11                                                    222\n",
       "112                                                   220\n",
       "?                                                     213\n",
       "總統好                                                   191\n",
       "？                                                     186\n",
       "賴著不拆                                                  159\n",
       "唯一支持柯文哲                                               145\n",
       "???                                                   133\n",
       "不給問                                                   107\n",
       ":love_you_gesture::nerd_face::love_you_gesture:        97\n",
       "芒果乾                                                    96\n",
       "空空空                                                    94\n",
       "？？？                                                    92\n",
       "柯總統好                                                   91\n",
       "柯總統                                                    81\n",
       "台視我大哥                                                  80\n",
       "3333                                                   80\n",
       "讚                                                      78\n",
       "33                                                     76\n",
       "領域展開                                                   75\n",
       "帥                                                      73\n",
       "賴百億                                                    73\n",
       "侯影忍者                                                   73\n",
       "????                                                   72\n",
       ":sign_of_the_horns::nerd_face::sign_of_the_horns:      71\n",
       "??                                                     69\n",
       "１                                                      68\n",
       "派                                                      64\n",
       "1 12                                                   56\n",
       "投1                                                     56\n",
       "0                                                      53\n",
       "２                                                      53\n",
       "唯一支持柯文哲!!                                              52\n",
       "支持3號 心疼2號 票投1號                                         52\n",
       "水                                                      51\n",
       "署長好                                                    50\n",
       "又來了                                                    50\n",
       "新北沒市長                                                  50\n",
       "哈哈                                                     50\n",
       "阿北加油                                                   50\n",
       "Name: count, dtype: int64"
      ]
     },
     "execution_count": 18,
     "metadata": {},
     "output_type": "execute_result"
    }
   ],
   "source": [
    "final_df['message'].value_counts().head(50)"
   ]
  }
 ],
 "metadata": {
  "kernelspec": {
   "display_name": "Python 3 (ipykernel)",
   "language": "python",
   "name": "python3"
  },
  "language_info": {
   "codemirror_mode": {
    "name": "ipython",
    "version": 3
   },
   "file_extension": ".py",
   "mimetype": "text/x-python",
   "name": "python",
   "nbconvert_exporter": "python",
   "pygments_lexer": "ipython3",
   "version": "3.10.10"
  }
 },
 "nbformat": 4,
 "nbformat_minor": 5
}
