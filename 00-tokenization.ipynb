{
 "cells": [
  {
   "cell_type": "code",
   "execution_count": 1,
   "id": "32b6b927",
   "metadata": {},
   "outputs": [],
   "source": [
    "import jieba\n",
    "import pandas as pd\n",
    "import re\n",
    "import pickle\n",
    "from datetime import datetime\n",
    "import seaborn as sns \n",
    "import matplotlib.pyplot as plt\n",
    "import unicodedata # for removing Chinese puctuation\n"
   ]
  },
  {
   "cell_type": "code",
   "execution_count": 11,
   "id": "8c83b867",
   "metadata": {
    "scrolled": true
   },
   "outputs": [
    {
     "data": {
      "text/html": [
       "<div>\n",
       "<style scoped>\n",
       "    .dataframe tbody tr th:only-of-type {\n",
       "        vertical-align: middle;\n",
       "    }\n",
       "\n",
       "    .dataframe tbody tr th {\n",
       "        vertical-align: top;\n",
       "    }\n",
       "\n",
       "    .dataframe thead th {\n",
       "        text-align: right;\n",
       "    }\n",
       "</style>\n",
       "<table border=\"1\" class=\"dataframe\">\n",
       "  <thead>\n",
       "    <tr style=\"text-align: right;\">\n",
       "      <th></th>\n",
       "      <th>PageName</th>\n",
       "      <th>Message</th>\n",
       "    </tr>\n",
       "  </thead>\n",
       "  <tbody>\n",
       "    <tr>\n",
       "      <th>0</th>\n",
       "      <td>伍麗華｜Saidai / Reseres</td>\n",
       "      <td>天啊，竟然有這樣的結果？！ 眾目睽睽下，進行不記名投票，完全輕看在地居民，真是不可思議！ 今...</td>\n",
       "    </tr>\n",
       "    <tr>\n",
       "      <th>1</th>\n",
       "      <td>伍麗華｜Saidai / Reseres</td>\n",
       "      <td>很多人沒聽過「大後」，就像沒聽過「小路」。 我是因為去了泰武鄉服務，才知道來義鄉有個大後部落...</td>\n",
       "    </tr>\n",
       "  </tbody>\n",
       "</table>\n",
       "</div>"
      ],
      "text/plain": [
       "               PageName                                            Message\n",
       "0  伍麗華｜Saidai / Reseres  天啊，竟然有這樣的結果？！ 眾目睽睽下，進行不記名投票，完全輕看在地居民，真是不可思議！ 今...\n",
       "1  伍麗華｜Saidai / Reseres  很多人沒聽過「大後」，就像沒聽過「小路」。 我是因為去了泰武鄉服務，才知道來義鄉有個大後部落..."
      ]
     },
     "execution_count": 11,
     "metadata": {},
     "output_type": "execute_result"
    }
   ],
   "source": [
    "df = pd.read_csv(\"./芷瑩候選人/output-clean剩下五縣市-output.csv\")[['PageName', \"Message\"]]\n",
    "df.head(2)"
   ]
  },
  {
   "cell_type": "code",
   "execution_count": null,
   "id": "23de7fea",
   "metadata": {},
   "outputs": [],
   "source": []
  },
  {
   "cell_type": "markdown",
   "id": "5dca94d7",
   "metadata": {},
   "source": [
    "# tokenization\n"
   ]
  },
  {
   "cell_type": "code",
   "execution_count": 12,
   "id": "2cbf0481",
   "metadata": {},
   "outputs": [
    {
     "name": "stdout",
     "output_type": "stream",
     "text": [
      "['\\\\u3000', '?', '、', '。', '“', '”', '，', '。', '！', '？']\n",
      "927\n"
     ]
    }
   ],
   "source": [
    "# 停用詞\n",
    "with open(\"./stop_word_chinese.txt\", encoding=\"utf-8\") as fin:\n",
    "    stopwords = fin.read().split(\"\\n\")[1:]\n",
    "print(stopwords[:10])\n",
    "print(len(stopwords))"
   ]
  },
  {
   "cell_type": "code",
   "execution_count": 13,
   "id": "55bdabc1",
   "metadata": {},
   "outputs": [],
   "source": [
    "#新定義辭典d\n",
    "with open(\"./add_word_healthDoctor.txt\", encoding=\"utf-8\") as f:\n",
    "    add_newword = f.read().split(\"\\n\")\n",
    "\n",
    "for word in add_newword: jieba.add_word(word)\n",
    "    \n",
    "with open(\"./dict.txt.big\", encoding=\"utf-8\") as f:\n",
    "    add_newword = f.read().split(\"\\n\")\n"
   ]
  },
  {
   "cell_type": "code",
   "execution_count": 14,
   "id": "aa1b212b",
   "metadata": {},
   "outputs": [],
   "source": [
    "def remove_emoji(text):\n",
    "    emoji_pattern = re.compile(\"[\"\n",
    "                               u\"\\U0001F600-\\U0001F64F\"  # 表情符號 (Emoticons)\n",
    "                               u\"\\U0001F300-\\U0001F5FF\"  # 圖形符號 (Miscellaneous Symbols and Pictographs)\n",
    "                               u\"\\U0001F680-\\U0001F6FF\"  # 交通運輸符號 (Transport and Map Symbols)\n",
    "                               u\"\\U0001F1E0-\\U0001F1FF\"  # 國旗符號 (Flags)\n",
    "                               u\"\\U00002600-\\U000027BF\"  # 雜項符號 (Miscellaneous Symbols)\n",
    "                               u\"\\U0001f926-\\U0001f937\"  # 表情符號 (Emoticons)\n",
    "                               u\"\\U00010000-\\U0010FFFF\"  # 其他符號 (Other Symbols)\n",
    "                               \"]+\", flags=re.UNICODE)\n",
    "    return emoji_pattern.sub(r'', text)"
   ]
  },
  {
   "cell_type": "code",
   "execution_count": 15,
   "id": "fa22c457",
   "metadata": {},
   "outputs": [
    {
     "data": {
      "text/plain": [
       "'這是一個包含 emoji的文本。'"
      ]
     },
     "execution_count": 15,
     "metadata": {},
     "output_type": "execute_result"
    }
   ],
   "source": [
    "text_with_emoji = \"這是一個包含😃 emoji的文本。\"\n",
    "remove_emoji(text_with_emoji)"
   ]
  },
  {
   "cell_type": "code",
   "execution_count": 16,
   "id": "bd89a0fc",
   "metadata": {},
   "outputs": [],
   "source": [
    "\n",
    "df['Message'] = df['Message'].apply(lambda x:re.sub(r\"http\\S+\", \"\", x))\n"
   ]
  },
  {
   "cell_type": "code",
   "execution_count": 17,
   "id": "e90d7e39",
   "metadata": {},
   "outputs": [],
   "source": [
    "df['Message'] = df['Message'].apply(lambda x:(x.replace(\"\\u3000\", \"\")))"
   ]
  },
  {
   "cell_type": "code",
   "execution_count": 18,
   "id": "2b415c25",
   "metadata": {},
   "outputs": [],
   "source": [
    "df['Message'] = df['Message'].apply(lambda x:(remove_emoji(x)))\n",
    "\n"
   ]
  },
  {
   "cell_type": "code",
   "execution_count": 19,
   "id": "c9621321",
   "metadata": {},
   "outputs": [
    {
     "data": {
      "text/plain": [
       "0       天啊，竟然有這樣的結果？！ 眾目睽睽下，進行不記名投票，完全輕看在地居民，真是不可思議！ 今...\n",
       "1       很多人沒聽過「大後」，就像沒聽過「小路」。 我是因為去了泰武鄉服務，才知道來義鄉有個大後部落...\n",
       "2       93軍人節，伍麗華帶您一起認識原住民最高軍階將領！ 原住民在部隊，一直是特戰單位的主力，原住...\n",
       "3       颱風天，「風雨故人來」，按字面意思，風雨天，有個朋友來看你，與你坐下來敘談。它寫的是一種心境...\n",
       "4       海端鄉最裡面的利稻村，昨天颱風登陸後，電力中斷、道路坍方。有村民走了2公里，拍回來坍方路況。...\n",
       "                              ...                        \n",
       "3274    【團圓】 大家吃湯圓了嗎？ 身為一個民意代表，在外的時間比在家多。 秀芳今天努力跑跑跑，到了...\n",
       "3275    【環島拼圖】 賴蕭配「環島拼圖」活動，今天來到彰化 二林至揚宮！ 賴清德總統候選人登台時，原...\n",
       "3276    【一起推廣CPR】 秀芳下午和 DPAC 彰化縣防災協會 合辦「全民救護推廣」，也舉辦「彰化...\n",
       "3277    【小英總統來了】選對的人，走對的路 小英總統 蔡英文 Tsai Ing-wen 今天來到我們...\n",
       "3278    【水牛伯】立法院長游錫堃 感謝立法院長 游游錫堃傍晚到彰化芬園 好好漢將軍廟（芬園。社口）為...\n",
       "Name: Message, Length: 3279, dtype: object"
      ]
     },
     "execution_count": 19,
     "metadata": {},
     "output_type": "execute_result"
    }
   ],
   "source": [
    "df['Message'].apply(lambda x:(x.replace(\"\\u3000\", \"\")))"
   ]
  },
  {
   "cell_type": "code",
   "execution_count": 20,
   "id": "ced3bd74",
   "metadata": {},
   "outputs": [
    {
     "data": {
      "text/html": [
       "<div>\n",
       "<style scoped>\n",
       "    .dataframe tbody tr th:only-of-type {\n",
       "        vertical-align: middle;\n",
       "    }\n",
       "\n",
       "    .dataframe tbody tr th {\n",
       "        vertical-align: top;\n",
       "    }\n",
       "\n",
       "    .dataframe thead th {\n",
       "        text-align: right;\n",
       "    }\n",
       "</style>\n",
       "<table border=\"1\" class=\"dataframe\">\n",
       "  <thead>\n",
       "    <tr style=\"text-align: right;\">\n",
       "      <th></th>\n",
       "      <th>PageName</th>\n",
       "      <th>Message</th>\n",
       "    </tr>\n",
       "  </thead>\n",
       "  <tbody>\n",
       "    <tr>\n",
       "      <th>0</th>\n",
       "      <td>伍麗華｜Saidai / Reseres</td>\n",
       "      <td>天啊，竟然有這樣的結果？！ 眾目睽睽下，進行不記名投票，完全輕看在地居民，真是不可思議！ 今...</td>\n",
       "    </tr>\n",
       "    <tr>\n",
       "      <th>1</th>\n",
       "      <td>伍麗華｜Saidai / Reseres</td>\n",
       "      <td>很多人沒聽過「大後」，就像沒聽過「小路」。 我是因為去了泰武鄉服務，才知道來義鄉有個大後部落...</td>\n",
       "    </tr>\n",
       "  </tbody>\n",
       "</table>\n",
       "</div>"
      ],
      "text/plain": [
       "               PageName                                            Message\n",
       "0  伍麗華｜Saidai / Reseres  天啊，竟然有這樣的結果？！ 眾目睽睽下，進行不記名投票，完全輕看在地居民，真是不可思議！ 今...\n",
       "1  伍麗華｜Saidai / Reseres  很多人沒聽過「大後」，就像沒聽過「小路」。 我是因為去了泰武鄉服務，才知道來義鄉有個大後部落..."
      ]
     },
     "execution_count": 20,
     "metadata": {},
     "output_type": "execute_result"
    }
   ],
   "source": [
    "df.head(2)"
   ]
  },
  {
   "cell_type": "markdown",
   "id": "a8d19ab7",
   "metadata": {},
   "source": [
    "# 斷詞"
   ]
  },
  {
   "cell_type": "code",
   "execution_count": 21,
   "id": "b251fb55",
   "metadata": {},
   "outputs": [],
   "source": [
    "# 斷詞ing\n",
    "df['tokenized'] = df['Message'].apply(lambda x:list(jieba.cut(x)))"
   ]
  },
  {
   "cell_type": "code",
   "execution_count": 22,
   "id": "37f3e495",
   "metadata": {},
   "outputs": [
    {
     "data": {
      "text/html": [
       "<div>\n",
       "<style scoped>\n",
       "    .dataframe tbody tr th:only-of-type {\n",
       "        vertical-align: middle;\n",
       "    }\n",
       "\n",
       "    .dataframe tbody tr th {\n",
       "        vertical-align: top;\n",
       "    }\n",
       "\n",
       "    .dataframe thead th {\n",
       "        text-align: right;\n",
       "    }\n",
       "</style>\n",
       "<table border=\"1\" class=\"dataframe\">\n",
       "  <thead>\n",
       "    <tr style=\"text-align: right;\">\n",
       "      <th></th>\n",
       "      <th>PageName</th>\n",
       "      <th>Message</th>\n",
       "      <th>tokenized</th>\n",
       "    </tr>\n",
       "  </thead>\n",
       "  <tbody>\n",
       "    <tr>\n",
       "      <th>0</th>\n",
       "      <td>伍麗華｜Saidai / Reseres</td>\n",
       "      <td>天啊，竟然有這樣的結果？！ 眾目睽睽下，進行不記名投票，完全輕看在地居民，真是不可思議！ 今...</td>\n",
       "      <td>[天, 啊, ，, 竟然, 有, 這樣, 的, 結果, ？, ！,  , 眾目, 睽睽, 下...</td>\n",
       "    </tr>\n",
       "  </tbody>\n",
       "</table>\n",
       "</div>"
      ],
      "text/plain": [
       "               PageName                                            Message  \\\n",
       "0  伍麗華｜Saidai / Reseres  天啊，竟然有這樣的結果？！ 眾目睽睽下，進行不記名投票，完全輕看在地居民，真是不可思議！ 今...   \n",
       "\n",
       "                                           tokenized  \n",
       "0  [天, 啊, ，, 竟然, 有, 這樣, 的, 結果, ？, ！,  , 眾目, 睽睽, 下...  "
      ]
     },
     "execution_count": 22,
     "metadata": {},
     "output_type": "execute_result"
    }
   ],
   "source": [
    "df.head(1)"
   ]
  },
  {
   "cell_type": "code",
   "execution_count": 23,
   "id": "c41e5771",
   "metadata": {},
   "outputs": [],
   "source": [
    "def remove_stopWords(words):\n",
    "    out = []\n",
    "    for word in words:\n",
    "        if word not in stopwords:\n",
    "            out.append(word)\n",
    "    return out\n",
    "\n",
    "def remove_punc_by_unicode(words):\n",
    "    out = []\n",
    "    for word in words:\n",
    "        if word != \" \" and not unicodedata.category(word[0]).startswith('P'):\n",
    "            out.append(word)\n",
    "    return out"
   ]
  },
  {
   "cell_type": "code",
   "execution_count": 24,
   "id": "ef0490e8",
   "metadata": {},
   "outputs": [],
   "source": [
    "df['cleaned'] = df['tokenized'].apply(remove_stopWords)\n",
    "df['cleaned_removePunc'] = df['cleaned'].apply(remove_punc_by_unicode)\n",
    "\n"
   ]
  },
  {
   "cell_type": "code",
   "execution_count": 25,
   "id": "3d9c14fe",
   "metadata": {},
   "outputs": [],
   "source": [
    "df['cleaned_removePunc'] = df['cleaned_removePunc'].apply(lambda x: [item for item in x if item != \"\" and len(item) >= 2 and len(item) <= 15])\n"
   ]
  },
  {
   "cell_type": "code",
   "execution_count": 26,
   "id": "63224239",
   "metadata": {},
   "outputs": [
    {
     "data": {
      "text/html": [
       "<div>\n",
       "<style scoped>\n",
       "    .dataframe tbody tr th:only-of-type {\n",
       "        vertical-align: middle;\n",
       "    }\n",
       "\n",
       "    .dataframe tbody tr th {\n",
       "        vertical-align: top;\n",
       "    }\n",
       "\n",
       "    .dataframe thead th {\n",
       "        text-align: right;\n",
       "    }\n",
       "</style>\n",
       "<table border=\"1\" class=\"dataframe\">\n",
       "  <thead>\n",
       "    <tr style=\"text-align: right;\">\n",
       "      <th></th>\n",
       "      <th>PageName</th>\n",
       "      <th>Message</th>\n",
       "      <th>tokenized</th>\n",
       "      <th>cleaned</th>\n",
       "      <th>cleaned_removePunc</th>\n",
       "    </tr>\n",
       "  </thead>\n",
       "  <tbody>\n",
       "    <tr>\n",
       "      <th>3269</th>\n",
       "      <td>黃秀芳</td>\n",
       "      <td>【聖誕節】 選戰倒數ing，2023也悄悄倒數了！ 秀芳下午出席彰化縣音樂河社會福利協會舉辦...</td>\n",
       "      <td>[【, 聖誕節, 】,  , 選戰, 倒數, ing, ，, 2023, 也, 悄悄, 倒數...</td>\n",
       "      <td>[聖誕節,  , 選戰, 倒數, ing, 2023, 悄悄, 倒數,  , 秀芳, 下午,...</td>\n",
       "      <td>[聖誕節, 選戰, 倒數, ing, 2023, 悄悄, 倒數, 秀芳, 下午, 出席, 彰...</td>\n",
       "    </tr>\n",
       "    <tr>\n",
       "      <th>3270</th>\n",
       "      <td>黃秀芳</td>\n",
       "      <td>【鄭家純來了】免費參加，一起推廣 半夜暗著來的！名額有限！ 寒夜還沒睡的您！搶先看到！速速手...</td>\n",
       "      <td>[【, 鄭家, 純來, 了, 】, 免費, 參加, ，, 一起, 推廣,  , 半夜, 暗著...</td>\n",
       "      <td>[鄭家, 純來, 免費, 參加, 推廣,  , 半夜, 暗著來, 名額, 有限,  , 寒夜...</td>\n",
       "      <td>[鄭家, 純來, 免費, 參加, 推廣, 半夜, 暗著來, 名額, 有限, 寒夜, 還沒, ...</td>\n",
       "    </tr>\n",
       "    <tr>\n",
       "      <th>3271</th>\n",
       "      <td>黃秀芳</td>\n",
       "      <td>【1號黃秀芳 懇請疼惜】 秀芳上午抽到1號，喊出「信賴有芳，支持1號黃秀芳」！ 從事政治運動...</td>\n",
       "      <td>[【, 1, 號黃秀芳,  , 懇請, 疼惜, 】,  , 秀芳, 上午, 抽到, 1, 號...</td>\n",
       "      <td>[1, 號黃秀芳,  , 懇請, 疼惜,  , 秀芳, 上午, 抽到, 1, 號, 喊出, ...</td>\n",
       "      <td>[號黃秀芳, 懇請, 疼惜, 秀芳, 上午, 抽到, 喊出, 信賴, 有芳, 支持, 號黃秀...</td>\n",
       "    </tr>\n",
       "    <tr>\n",
       "      <th>3272</th>\n",
       "      <td>黃秀芳</td>\n",
       "      <td>【溫暖的擁抱】 傍晚的彰化，寒風凜冽，新北市議員 山田摩衣，特地來到彰化，陪著秀芳挨家挨戶掃...</td>\n",
       "      <td>[【, 溫暖, 的, 擁抱, 】,  , 傍晚, 的, 彰化, ，, 寒風凜冽, ，, 新北...</td>\n",
       "      <td>[溫暖, 擁抱,  , 傍晚, 彰化, 寒風凜冽, 新北市, 議員,  , 山田, 摩衣, ...</td>\n",
       "      <td>[溫暖, 擁抱, 傍晚, 彰化, 寒風凜冽, 新北市, 議員, 山田, 摩衣, 特地, 彰化...</td>\n",
       "    </tr>\n",
       "    <tr>\n",
       "      <th>3273</th>\n",
       "      <td>黃秀芳</td>\n",
       "      <td>【把握黃金周】黃秀芳全力以赴 選前剩下3個黃金周末，這周六(12/23)上午，賴蕭配「唱土地...</td>\n",
       "      <td>[【, 把握, 黃, 金周, 】, 黃, 秀芳, 全力以赴,  , 選前, 剩下, 3, 個...</td>\n",
       "      <td>[把握, 黃, 金周, 黃, 秀芳, 全力以赴,  , 選前, 剩下, 3, 黃, 金, 周...</td>\n",
       "      <td>[把握, 金周, 秀芳, 全力以赴, 選前, 剩下, 周末, 周六, 12, 23, 上午,...</td>\n",
       "    </tr>\n",
       "    <tr>\n",
       "      <th>3274</th>\n",
       "      <td>黃秀芳</td>\n",
       "      <td>【團圓】 大家吃湯圓了嗎？ 身為一個民意代表，在外的時間比在家多。 秀芳今天努力跑跑跑，到了...</td>\n",
       "      <td>[【, 團圓, 】,  , 大家, 吃, 湯圓, 了, 嗎, ？,  , 身為, 一個, 民...</td>\n",
       "      <td>[團圓,  , 吃, 湯圓,  , 身為, 一個, 民意代表, 在外, 時間, 在家,  ,...</td>\n",
       "      <td>[團圓, 湯圓, 身為, 一個, 民意代表, 在外, 時間, 在家, 秀芳, 努力, 跑跑,...</td>\n",
       "    </tr>\n",
       "    <tr>\n",
       "      <th>3275</th>\n",
       "      <td>黃秀芳</td>\n",
       "      <td>【環島拼圖】 賴蕭配「環島拼圖」活動，今天來到彰化 二林至揚宮！ 賴清德總統候選人登台時，原...</td>\n",
       "      <td>[【, 環島, 拼圖, 】,  , 賴蕭配, 「, 環島, 拼圖, 」, 活動, ，, 今天...</td>\n",
       "      <td>[環島, 拼圖,  , 賴蕭配, 環島, 拼圖, 活動, 彰化,  , 二林, 至揚宮,  ...</td>\n",
       "      <td>[環島, 拼圖, 賴蕭配, 環島, 拼圖, 活動, 彰化, 二林, 至揚宮, 賴清德, 總統...</td>\n",
       "    </tr>\n",
       "    <tr>\n",
       "      <th>3276</th>\n",
       "      <td>黃秀芳</td>\n",
       "      <td>【一起推廣CPR】 秀芳下午和 DPAC 彰化縣防災協會 合辦「全民救護推廣」，也舉辦「彰化...</td>\n",
       "      <td>[【, 一起, 推廣, CPR, 】,  , 秀芳, 下午, 和,  , DPAC,  , ...</td>\n",
       "      <td>[推廣, CPR,  , 秀芳, 下午,  , DPAC,  , 彰化, 縣防災, 協會, ...</td>\n",
       "      <td>[推廣, CPR, 秀芳, 下午, DPAC, 彰化, 縣防災, 協會, 合辦, 全民, 救...</td>\n",
       "    </tr>\n",
       "    <tr>\n",
       "      <th>3277</th>\n",
       "      <td>黃秀芳</td>\n",
       "      <td>【小英總統來了】選對的人，走對的路 小英總統 蔡英文 Tsai Ing-wen 今天來到我們...</td>\n",
       "      <td>[【, 小英, 總統, 來, 了, 】, 選對, 的, 人, ，, 走, 對, 的, 路, ...</td>\n",
       "      <td>[小英, 總統, 選對, 人, 走, 對, 路,  , 小英, 總統,  , 蔡英文,  ,...</td>\n",
       "      <td>[小英, 總統, 選對, 小英, 總統, 蔡英文, Tsai, Ing, wen, 彰化市,...</td>\n",
       "    </tr>\n",
       "    <tr>\n",
       "      <th>3278</th>\n",
       "      <td>黃秀芳</td>\n",
       "      <td>【水牛伯】立法院長游錫堃 感謝立法院長 游游錫堃傍晚到彰化芬園 好好漢將軍廟（芬園。社口）為...</td>\n",
       "      <td>[【, 水牛, 伯, 】, 立法院, 長, 游錫堃,  , 感謝, 立法院, 長,  , 游...</td>\n",
       "      <td>[水牛, 伯, 立法院, 長, 游錫堃,  , 感謝, 立法院, 長,  , 游游錫堃, 傍...</td>\n",
       "      <td>[水牛, 立法院, 游錫堃, 感謝, 立法院, 游游錫堃, 傍晚, 彰化, 芬園, 好好, ...</td>\n",
       "    </tr>\n",
       "  </tbody>\n",
       "</table>\n",
       "</div>"
      ],
      "text/plain": [
       "     PageName                                            Message  \\\n",
       "3269      黃秀芳  【聖誕節】 選戰倒數ing，2023也悄悄倒數了！ 秀芳下午出席彰化縣音樂河社會福利協會舉辦...   \n",
       "3270      黃秀芳  【鄭家純來了】免費參加，一起推廣 半夜暗著來的！名額有限！ 寒夜還沒睡的您！搶先看到！速速手...   \n",
       "3271      黃秀芳  【1號黃秀芳 懇請疼惜】 秀芳上午抽到1號，喊出「信賴有芳，支持1號黃秀芳」！ 從事政治運動...   \n",
       "3272      黃秀芳  【溫暖的擁抱】 傍晚的彰化，寒風凜冽，新北市議員 山田摩衣，特地來到彰化，陪著秀芳挨家挨戶掃...   \n",
       "3273      黃秀芳  【把握黃金周】黃秀芳全力以赴 選前剩下3個黃金周末，這周六(12/23)上午，賴蕭配「唱土地...   \n",
       "3274      黃秀芳  【團圓】 大家吃湯圓了嗎？ 身為一個民意代表，在外的時間比在家多。 秀芳今天努力跑跑跑，到了...   \n",
       "3275      黃秀芳  【環島拼圖】 賴蕭配「環島拼圖」活動，今天來到彰化 二林至揚宮！ 賴清德總統候選人登台時，原...   \n",
       "3276      黃秀芳  【一起推廣CPR】 秀芳下午和 DPAC 彰化縣防災協會 合辦「全民救護推廣」，也舉辦「彰化...   \n",
       "3277      黃秀芳  【小英總統來了】選對的人，走對的路 小英總統 蔡英文 Tsai Ing-wen 今天來到我們...   \n",
       "3278      黃秀芳  【水牛伯】立法院長游錫堃 感謝立法院長 游游錫堃傍晚到彰化芬園 好好漢將軍廟（芬園。社口）為...   \n",
       "\n",
       "                                              tokenized  \\\n",
       "3269  [【, 聖誕節, 】,  , 選戰, 倒數, ing, ，, 2023, 也, 悄悄, 倒數...   \n",
       "3270  [【, 鄭家, 純來, 了, 】, 免費, 參加, ，, 一起, 推廣,  , 半夜, 暗著...   \n",
       "3271  [【, 1, 號黃秀芳,  , 懇請, 疼惜, 】,  , 秀芳, 上午, 抽到, 1, 號...   \n",
       "3272  [【, 溫暖, 的, 擁抱, 】,  , 傍晚, 的, 彰化, ，, 寒風凜冽, ，, 新北...   \n",
       "3273  [【, 把握, 黃, 金周, 】, 黃, 秀芳, 全力以赴,  , 選前, 剩下, 3, 個...   \n",
       "3274  [【, 團圓, 】,  , 大家, 吃, 湯圓, 了, 嗎, ？,  , 身為, 一個, 民...   \n",
       "3275  [【, 環島, 拼圖, 】,  , 賴蕭配, 「, 環島, 拼圖, 」, 活動, ，, 今天...   \n",
       "3276  [【, 一起, 推廣, CPR, 】,  , 秀芳, 下午, 和,  , DPAC,  , ...   \n",
       "3277  [【, 小英, 總統, 來, 了, 】, 選對, 的, 人, ，, 走, 對, 的, 路, ...   \n",
       "3278  [【, 水牛, 伯, 】, 立法院, 長, 游錫堃,  , 感謝, 立法院, 長,  , 游...   \n",
       "\n",
       "                                                cleaned  \\\n",
       "3269  [聖誕節,  , 選戰, 倒數, ing, 2023, 悄悄, 倒數,  , 秀芳, 下午,...   \n",
       "3270  [鄭家, 純來, 免費, 參加, 推廣,  , 半夜, 暗著來, 名額, 有限,  , 寒夜...   \n",
       "3271  [1, 號黃秀芳,  , 懇請, 疼惜,  , 秀芳, 上午, 抽到, 1, 號, 喊出, ...   \n",
       "3272  [溫暖, 擁抱,  , 傍晚, 彰化, 寒風凜冽, 新北市, 議員,  , 山田, 摩衣, ...   \n",
       "3273  [把握, 黃, 金周, 黃, 秀芳, 全力以赴,  , 選前, 剩下, 3, 黃, 金, 周...   \n",
       "3274  [團圓,  , 吃, 湯圓,  , 身為, 一個, 民意代表, 在外, 時間, 在家,  ,...   \n",
       "3275  [環島, 拼圖,  , 賴蕭配, 環島, 拼圖, 活動, 彰化,  , 二林, 至揚宮,  ...   \n",
       "3276  [推廣, CPR,  , 秀芳, 下午,  , DPAC,  , 彰化, 縣防災, 協會, ...   \n",
       "3277  [小英, 總統, 選對, 人, 走, 對, 路,  , 小英, 總統,  , 蔡英文,  ,...   \n",
       "3278  [水牛, 伯, 立法院, 長, 游錫堃,  , 感謝, 立法院, 長,  , 游游錫堃, 傍...   \n",
       "\n",
       "                                     cleaned_removePunc  \n",
       "3269  [聖誕節, 選戰, 倒數, ing, 2023, 悄悄, 倒數, 秀芳, 下午, 出席, 彰...  \n",
       "3270  [鄭家, 純來, 免費, 參加, 推廣, 半夜, 暗著來, 名額, 有限, 寒夜, 還沒, ...  \n",
       "3271  [號黃秀芳, 懇請, 疼惜, 秀芳, 上午, 抽到, 喊出, 信賴, 有芳, 支持, 號黃秀...  \n",
       "3272  [溫暖, 擁抱, 傍晚, 彰化, 寒風凜冽, 新北市, 議員, 山田, 摩衣, 特地, 彰化...  \n",
       "3273  [把握, 金周, 秀芳, 全力以赴, 選前, 剩下, 周末, 周六, 12, 23, 上午,...  \n",
       "3274  [團圓, 湯圓, 身為, 一個, 民意代表, 在外, 時間, 在家, 秀芳, 努力, 跑跑,...  \n",
       "3275  [環島, 拼圖, 賴蕭配, 環島, 拼圖, 活動, 彰化, 二林, 至揚宮, 賴清德, 總統...  \n",
       "3276  [推廣, CPR, 秀芳, 下午, DPAC, 彰化, 縣防災, 協會, 合辦, 全民, 救...  \n",
       "3277  [小英, 總統, 選對, 小英, 總統, 蔡英文, Tsai, Ing, wen, 彰化市,...  \n",
       "3278  [水牛, 立法院, 游錫堃, 感謝, 立法院, 游游錫堃, 傍晚, 彰化, 芬園, 好好, ...  "
      ]
     },
     "execution_count": 26,
     "metadata": {},
     "output_type": "execute_result"
    }
   ],
   "source": [
    "df.tail(10)"
   ]
  },
  {
   "cell_type": "code",
   "execution_count": 27,
   "id": "e752d18e",
   "metadata": {},
   "outputs": [
    {
     "name": "stdout",
     "output_type": "stream",
     "text": [
      "467904\n"
     ]
    },
    {
     "data": {
      "text/html": [
       "<div>\n",
       "<style scoped>\n",
       "    .dataframe tbody tr th:only-of-type {\n",
       "        vertical-align: middle;\n",
       "    }\n",
       "\n",
       "    .dataframe tbody tr th {\n",
       "        vertical-align: top;\n",
       "    }\n",
       "\n",
       "    .dataframe thead th {\n",
       "        text-align: right;\n",
       "    }\n",
       "</style>\n",
       "<table border=\"1\" class=\"dataframe\">\n",
       "  <thead>\n",
       "    <tr style=\"text-align: right;\">\n",
       "      <th></th>\n",
       "      <th>PageName</th>\n",
       "      <th>Message</th>\n",
       "      <th>tokenized</th>\n",
       "      <th>cleaned</th>\n",
       "      <th>cleaned_removePunc</th>\n",
       "    </tr>\n",
       "  </thead>\n",
       "  <tbody>\n",
       "    <tr>\n",
       "      <th>0</th>\n",
       "      <td>伍麗華｜Saidai / Reseres</td>\n",
       "      <td>天啊，竟然有這樣的結果？！ 眾目睽睽下，進行不記名投票，完全輕看在地居民，真是不可思議！ 今...</td>\n",
       "      <td>[天, 啊, ，, 竟然, 有, 這樣, 的, 結果, ？, ！,  , 眾目, 睽睽, 下...</td>\n",
       "      <td>[天, 竟然,  , 眾目, 睽睽, 下, 不, 記名, 投票, 輕看, 居民, 思議,  ...</td>\n",
       "      <td>竟然</td>\n",
       "    </tr>\n",
       "  </tbody>\n",
       "</table>\n",
       "</div>"
      ],
      "text/plain": [
       "               PageName                                            Message  \\\n",
       "0  伍麗華｜Saidai / Reseres  天啊，竟然有這樣的結果？！ 眾目睽睽下，進行不記名投票，完全輕看在地居民，真是不可思議！ 今...   \n",
       "\n",
       "                                           tokenized  \\\n",
       "0  [天, 啊, ，, 竟然, 有, 這樣, 的, 結果, ？, ！,  , 眾目, 睽睽, 下...   \n",
       "\n",
       "                                             cleaned cleaned_removePunc  \n",
       "0  [天, 竟然,  , 眾目, 睽睽, 下, 不, 記名, 投票, 輕看, 居民, 思議,  ...                 竟然  "
      ]
     },
     "execution_count": 27,
     "metadata": {},
     "output_type": "execute_result"
    }
   ],
   "source": [
    "df_unnested = df.explode('cleaned_removePunc').reset_index(drop=True)\n",
    "print(len(df_unnested))\n",
    "df_unnested.head(1)\n"
   ]
  },
  {
   "cell_type": "code",
   "execution_count": 31,
   "id": "c6e5b1e2",
   "metadata": {},
   "outputs": [],
   "source": [
    "df_unnested.to_pickle(\"./芷瑩候選人/bak/df_unnested.pkl\")"
   ]
  },
  {
   "cell_type": "code",
   "execution_count": 32,
   "id": "e48da9f2",
   "metadata": {},
   "outputs": [],
   "source": [
    "df.to_pickle(\"./芷瑩候選人/bak/df.pkl\")"
   ]
  },
  {
   "cell_type": "code",
   "execution_count": 33,
   "id": "d21ba536",
   "metadata": {},
   "outputs": [],
   "source": [
    "df = pd.read_pickle(\"./芷瑩候選人/bak/df.pkl\")"
   ]
  },
  {
   "cell_type": "code",
   "execution_count": 140,
   "id": "b81a2773",
   "metadata": {},
   "outputs": [],
   "source": []
  },
  {
   "cell_type": "code",
   "execution_count": null,
   "id": "088340d5",
   "metadata": {},
   "outputs": [],
   "source": []
  },
  {
   "cell_type": "markdown",
   "id": "16a88a03",
   "metadata": {},
   "source": [
    "# 斷詞 用空格格開示範"
   ]
  },
  {
   "cell_type": "code",
   "execution_count": null,
   "id": "09cd41b0",
   "metadata": {},
   "outputs": [],
   "source": []
  },
  {
   "cell_type": "code",
   "execution_count": 127,
   "id": "451cf6a5",
   "metadata": {},
   "outputs": [],
   "source": [
    "docs = list(df['cleaned_removePunc'])\n",
    "new_docs = []\n",
    "for doc in docs:\n",
    "    \n",
    "    #print(doc)\n",
    "    new_token_doc = \"\"\n",
    "    for t in range(0, len(doc)):\n",
    "        new_token_doc += doc[t]\n",
    "        if t == len(doc)-1:  break\n",
    "        new_token_doc += \" \"\n",
    "    new_docs.append(new_token_doc)\n",
    "docs = new_docs"
   ]
  },
  {
   "cell_type": "code",
   "execution_count": 133,
   "id": "bdd080ce",
   "metadata": {},
   "outputs": [
    {
     "data": {
      "text/plain": [
       "['醫師 難為 白牌 計程 車司 機染 新冠肺炎 死亡 一家 診所 就診 外界 質疑 醫師 未在 第一 時間 通報 有人 當場 質問 診所 護理師 醫師 看病 但事 實上 白牌 計程 車司 機是 這名 醫師 發現 疑因 流感 症狀 建議 轉診 醫院 被驗 染上 新冠肺炎 醫師 女兒 臉書貼 文稱 爸爸 診兢兢業業 心目 父親 醫師 點評 一個 基層 醫師 角度 醫師 這位 前輩 並無 不妥 有警 覺性 懷疑 流感 重症 簡單 事實 感冒 流感 新冠肺炎 發病 初期 表現 難以 區分 問旅遊史 之外 沒轍 問接 觸史 司機載 過什麼 病人 恐怕 診所 做新冠 病毒 篩檢 不曉得 鍵盤 專家 批評 換他們 來當 醫師 肉眼 新冠肺炎 醫師 診所 看診 病人 來來 去去 我會 新冠肺炎 看不出 堅守崗位 盡力',\n",
       " '一句 形容 新型 冠狀 病毒 抗體 感冒 病毒 小看 感冒 病毒 當我們 身上 抗體 傷力 很強 哪一種 對付 感冒 病毒 拿手 兒童 兒童 可應付 13 病毒感染 箇中 高手 未來 碰到 孩子 感冒 生病 爸媽 正向 思考 累積 抗病毒 經驗值 老人 雖然身 經百戰 人生 哪種 病毒 沒見識過 厲害 碰到 全新 病毒 實在 應付 不來 阿公 阿嬤 在生活中 事物 更長 時間 學習 兒童 防疫 重點 保護 家中 慢性病 爸爸 男性 重症 防疫 恐慌 包容 黃瑽寧 武漢肺炎 2019 新型 冠狀 病毒',\n",
       " '21 星期五 早上 門診 掛號 12 00',\n",
       " '設計 時空 背景 今晚 台灣 醫師 這兩天 有流 鼻水 發燒 症狀 武漢肺炎 出國 接觸 過疫區 回來 案例 一開始 詢問 出國 沒接 觸史 可能性 不高 鼻水 感冒 病毒 機率 武漢肺炎 辦法 台灣 平均 至少 10 萬人會 感冒 鼻水 現階段 鼻水 當成 武漢肺炎 去驗 誤診 病毒 誤診 辦法 鼻水 輕症 本來 漏掉 再來 感冒 時本來 就要 保持良好 鼻衛生 習慣 在家 休養 感冒 病毒 傳給 別人 怪怪的',\n",
       " '簡單 張圖',\n",
       " '各部 配合 大海 撈針 破案 能力 有如 福爾 摩斯 令人 台灣 超強 查出 司機 感染 其邁 公布 答案 LINETODAY',\n",
       " '精華版 下次 全民 示範 正確 洗手 洗手 洗手 洗手 真的',\n",
       " '分享 希望 孩子 有四點 記得 我家 孩子 弄翻 東西 弟弟 父母 孩子 說謊 動機 的後果 反省 態度 才能 導正 偏差 減少 希望 孩子 實話 有四個 地方 參考 文章 十歲 不應 品德 劃上 等號',\n",
       " '走到 被量 額溫 劉德華 上班 看診 發現 梁朝 這減 無間 額溫 有感',\n",
       " '人口 密集 地方 場合 風險 高馬拉松 國際會議 宗教 活動 軍隊 監獄 群聚 感染 地點 香港 日本 台灣 餐會 新加坡 韓國 教會 中國 山東 浙江 230 受刑人 確診 染疫',\n",
       " '此篇 新聞 報導 俄國衛生 部長 穆拉 伸科 簽名 文件 認定 武漢肺炎 病毒 自人為 重組 20 日起 禁止 澳籍 人士 入境 感謝 多位 網友 提供 消息 媒體 查證 報導 有誤 FactCheck 俄國 認證 武漢肺炎 人工 病毒 消息 從何',\n",
       " '各國 政府 人民 此藥 希望',\n",
       " '育兒 大神 黃瑽寧 醫師 健康 講堂 醫師 來給 壓壓 冠狀 病毒 本來 一年四季 四周 新型 冠狀 病毒 想成 免疫力 族群 威脅 稍微 感冒 病毒 確是 穩定 情緒 代表 不用 理會個 人衛生 措施 做好 防疫 措施 太過 慌張',\n",
       " '大鼠 流感疫苗 研究 鼻腔 吸入 H1N1 疫苗 兩天 可產生 H1N1 H3N2 H5N1 H7N9 免疫力 保護力 可持續 六個 其關鍵 是將 疫苗 加上 一個 佐劑 PS GAMP cGAMP 包在 一種 脂質體 liposome cGAMP 干擾素 基因 強力 活化因子 包覆 脂質 體則 肺泡 表面 張力 素有 生物 相似性 干擾 素路 徑則 人體 抗病毒 機制 PS GAMP 無縫 肺泡 巨噬 細胞 cGAMP 肺泡 破壞 成功 第二 上皮 細胞 影響 肺泡 突細胞 收到 H1N1 抗原 接收 肺泡 上皮 細胞 干擾素 下游 訊號 引發 第一 免疫 免疫 記憶系 統內 CD8 細胞 活化 拿摩 厲害 Vol.367 Issue6480 p.856',\n",
       " '寫實',\n",
       " '分享 這次 病毒 疫情 工作 生活 影響 奶爸 Dr 手殘 相機 一個 零件 昨天 門診 結束 維修 服務站 送修 得知 維修 時間 以往 原因 新型 冠狀 病毒 疫情 對岸 零件 應鏈 拖慢 物流 送貨 時間 延誤 偶當然 拍桌子 並在 地板 滾動 肯德基 明明 手殘 只好 乖乖 等待 這件 事情 想到 很多 工作 生活 影響 排隊 口罩 各行 各業 分享 工作 產業 生活 影響',\n",
       " '劉真 老師 加油 年前 錄影 國標 劉真 老師 合影留念 記得 那集 醫師 好辣 節目 劉真 老師 偏頭 痛所苦 發作 真的 痛不欲生 深有同感 復健 改善 錄影 劉真 老師 合影 親切 一點 架子 隨和 穿著 藍色洋裝 特別 優雅有 氣質 想到 聽聞 看起 健康 心臟 瓣膜 手術 中發生 狀況 手術 本身 高風險 醫師 盡力 有人 不好 意外 發生 居然 onECMO 一段 時間 葉克膜體 外循 環維生 系統 等待 有緣 心臟 移植 機會 些微 渺茫 真心 期盼 恢復 健康 劉真 加油 加油 希望 看次 翩然 起舞 笑容',\n",
       " '眼拙 光看 雙眼 同事',\n",
       " '',\n",
       " '急診 女神 田知學 醫師 直播 分享 防疫 大小 知識 有空 朋友 襄盛舉']"
      ]
     },
     "execution_count": 133,
     "metadata": {},
     "output_type": "execute_result"
    }
   ],
   "source": [
    "docs[20000:20020]\n"
   ]
  },
  {
   "cell_type": "code",
   "execution_count": 129,
   "id": "4ec2fef1",
   "metadata": {},
   "outputs": [
    {
     "data": {
      "text/plain": [
       "59988"
      ]
     },
     "execution_count": 129,
     "metadata": {},
     "output_type": "execute_result"
    }
   ],
   "source": [
    "len(docs)"
   ]
  },
  {
   "cell_type": "code",
   "execution_count": null,
   "id": "119ef327",
   "metadata": {},
   "outputs": [],
   "source": []
  },
  {
   "cell_type": "code",
   "execution_count": 2,
   "id": "d473b0bc",
   "metadata": {},
   "outputs": [],
   "source": [
    "import pandas as pd"
   ]
  },
  {
   "cell_type": "code",
   "execution_count": 3,
   "id": "243fc3c3",
   "metadata": {},
   "outputs": [],
   "source": [
    "t = pd.read_pickle(\"../bak/df_unnested.pkl\")"
   ]
  },
  {
   "cell_type": "code",
   "execution_count": 5,
   "id": "8398f0a9",
   "metadata": {},
   "outputs": [],
   "source": [
    "t.to_csv(\"../data/final/2017_23-doctors_clean_unnested.csv\")"
   ]
  }
 ],
 "metadata": {
  "kernelspec": {
   "display_name": "Python 3 (ipykernel)",
   "language": "python",
   "name": "python3"
  },
  "language_info": {
   "codemirror_mode": {
    "name": "ipython",
    "version": 3
   },
   "file_extension": ".py",
   "mimetype": "text/x-python",
   "name": "python",
   "nbconvert_exporter": "python",
   "pygments_lexer": "ipython3",
   "version": "3.10.10"
  }
 },
 "nbformat": 4,
 "nbformat_minor": 5
}
